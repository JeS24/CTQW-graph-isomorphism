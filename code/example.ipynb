{
 "cells": [
  {
   "cell_type": "markdown",
   "metadata": {},
   "source": [
    "### Example code for testing the implementation & comparing with classical GI algorithm\n",
    "* Note: For testing all pairs (for families with more than 2 graphs), use `parallel.py` that supports command line arguments. Run `python parallel.py -h` to get an overview. **Running the functions serially is strongly discouraged.**\n",
    "* In each case below, `True` implies isomorphism, which would be a false-positive since the graphs are non-isomorphic, and vice-versa. $p = 1$ and $p = 2$ CTQWs produce false-positives, while the classical test and $p = 3$ & $p = 4$ CTQWs do not."
   ]
  },
  {
   "cell_type": "code",
   "execution_count": 1,
   "metadata": {},
   "outputs": [],
   "source": [
    "# Local import\n",
    "from utils import *"
   ]
  },
  {
   "cell_type": "code",
   "execution_count": 2,
   "metadata": {},
   "outputs": [
    {
     "data": {
      "text/plain": [
       "(2, 16, 16)"
      ]
     },
     "execution_count": 2,
     "metadata": {},
     "output_type": "execute_result"
    }
   ],
   "source": [
    "# Read in graph family\n",
    "family_path = \"16-6-2-2.txt\"\n",
    "data = DATA / family_path\n",
    "graphs = read_data(data)\n",
    "graphs.shape # (N(graphs), N(vertices), N(vertices)) # 16-6-2-2 has only 2 graphs."
   ]
  },
  {
   "cell_type": "markdown",
   "metadata": {},
   "source": [
    "#### Testing using classical algorithm"
   ]
  },
  {
   "cell_type": "code",
   "execution_count": 3,
   "metadata": {},
   "outputs": [
    {
     "data": {
      "text/plain": [
       "False"
      ]
     },
     "execution_count": 3,
     "metadata": {},
     "output_type": "execute_result"
    }
   ],
   "source": [
    "GI_classical_test(graphs[0], graphs[1])"
   ]
  },
  {
   "cell_type": "markdown",
   "metadata": {},
   "source": [
    "#### Testing using quantum algorithm with specific CTQW parameters"
   ]
  },
  {
   "cell_type": "code",
   "execution_count": 4,
   "metadata": {},
   "outputs": [
    {
     "data": {
      "text/plain": [
       "True"
      ]
     },
     "execution_count": 4,
     "metadata": {},
     "output_type": "execute_result"
    }
   ],
   "source": [
    "# 1-particle Bosonic CTQW\n",
    "GI_quantum_test(graphs[0], graphs[1], p=1, ptype=\"bos\")"
   ]
  },
  {
   "cell_type": "code",
   "execution_count": 5,
   "metadata": {},
   "outputs": [
    {
     "data": {
      "text/plain": [
       "True"
      ]
     },
     "execution_count": 5,
     "metadata": {},
     "output_type": "execute_result"
    }
   ],
   "source": [
    "# 2-particle Fermionic CTQW\n",
    "GI_quantum_test(graphs[0], graphs[1], p=2, ptype=\"ferm\")"
   ]
  },
  {
   "cell_type": "code",
   "execution_count": 6,
   "metadata": {},
   "outputs": [
    {
     "data": {
      "text/plain": [
       "False"
      ]
     },
     "execution_count": 6,
     "metadata": {},
     "output_type": "execute_result"
    }
   ],
   "source": [
    "# 3-particle Fermionic CTQW\n",
    "GI_quantum_test(graphs[0], graphs[1], p=3, ptype=\"ferm\", tol=1e-11)"
   ]
  },
  {
   "cell_type": "code",
   "execution_count": 7,
   "metadata": {},
   "outputs": [
    {
     "name": "stdout",
     "output_type": "stream",
     "text": [
      "False\n"
     ]
    }
   ],
   "source": [
    "# 4-particle Bosonic CTQW\n",
    "# GI_quantum_test(graphs[0], graphs[1], p=4, ptype=\"bos\", tol=1e-10) # WARNING: MEMORY INTENSIVE (~156 GB)"
   ]
  },
  {
   "cell_type": "markdown",
   "metadata": {},
   "source": [
    "### To compare with analytical expression for $U_{p = 1}$\n",
    "\n",
    "* The following code tests whether the output from the code here matches the analytical expression for $|U_{p = 1}|$ from Gamble et al.\n",
    "* It also confirms that 1-particle walks are insufficient to distinguish between isomorphic graphs."
   ]
  },
  {
   "cell_type": "code",
   "execution_count": 8,
   "metadata": {},
   "outputs": [],
   "source": [
    "import numpy as np, scipy as sc\n",
    "\n",
    "ex = sc.linalg.expm\n",
    "c, s, sq = np.cos, np.sin, np.sqrt\n",
    "\n",
    "t = 1. # time\n",
    "sq2 = sq(2)\n",
    "sq2t = sq2 * t\n",
    "cs = c(sq2t)\n",
    "ss = s(sq2t)"
   ]
  },
  {
   "cell_type": "code",
   "execution_count": 9,
   "metadata": {},
   "outputs": [],
   "source": [
    "## Analytical expressions from Gamble et al - Eqns. 28 & 29\n",
    "U_A_paper = np.array([\n",
    "    [cs / 2 + 0.5, -1j * ss / sq2, cs / 2 - 0.5],\n",
    "    [-1j * ss / sq2, cs, -1j * ss / sq2],\n",
    "    [cs / 2 - 0.5, -1j * ss / sq2, cs / 2 + 0.5]\n",
    "])\n",
    "U_B_paper = np.array([\n",
    "    [cs, -1j * ss / sq2, 1j * ss / sq2],\n",
    "    [-1j * ss / sq2, cs / 2 + 0.5, -cs / 2 + 0.5,],\n",
    "    [1j * ss / sq2, -cs / 2 + 0.5, cs / 2 + 0.5]\n",
    "])\n",
    "\n",
    "## Own calc\n",
    "# Adjacency matrix from Gamble et al - Eqn. 26\n",
    "A = np.array([\n",
    "    [1., 1., 0.],\n",
    "    [1., 1., 1.],\n",
    "    [0., 1., 1.]\n",
    "])\n",
    "\n",
    "# Hamiltonians\n",
    "H_A = -A\n",
    "\n",
    "# Evolution matrix\n",
    "U_A_own = ex(-1j * H_A * t)"
   ]
  },
  {
   "cell_type": "code",
   "execution_count": 10,
   "metadata": {},
   "outputs": [
    {
     "data": {
      "text/plain": [
       "True"
      ]
     },
     "execution_count": 10,
     "metadata": {},
     "output_type": "execute_result"
    }
   ],
   "source": [
    "# Confirming that the analytical expressions from the paper gives the same result as my code\n",
    "np.allclose(np.abs(U_A_own), np.abs(U_A_paper))"
   ]
  },
  {
   "cell_type": "code",
   "execution_count": 11,
   "metadata": {},
   "outputs": [
    {
     "data": {
      "text/plain": [
       "True"
      ]
     },
     "execution_count": 11,
     "metadata": {},
     "output_type": "execute_result"
    }
   ],
   "source": [
    "# Confirming that a 1-particle walk is insufficent to distinguish the graphs\n",
    "np.allclose(np.sort(np.abs(U_A_paper).flatten()), np.sort(np.abs(U_B_paper).flatten())) # `True` denotes a false-positive. "
   ]
  }
 ],
 "metadata": {
  "kernelspec": {
   "display_name": "Python 3.10.6 ('qm': venv)",
   "language": "python",
   "name": "python3"
  },
  "language_info": {
   "codemirror_mode": {
    "name": "ipython",
    "version": 3
   },
   "file_extension": ".py",
   "mimetype": "text/x-python",
   "name": "python",
   "nbconvert_exporter": "python",
   "pygments_lexer": "ipython3",
   "version": "3.10.6"
  },
  "orig_nbformat": 4,
  "vscode": {
   "interpreter": {
    "hash": "8d1ce33fbf6c5e2f2dfbed86eb2e29464003a1e084682f374187d9236ecc7a52"
   }
  }
 },
 "nbformat": 4,
 "nbformat_minor": 2
}
